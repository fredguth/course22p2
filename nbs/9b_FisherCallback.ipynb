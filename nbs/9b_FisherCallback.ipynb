{
 "cells": [
  {
   "cell_type": "raw",
   "metadata": {},
   "source": [
    "---\n",
    "output-file: fishercallback.html\n",
    "title: Fisher Callback with miniai\n",
    "\n",
    "---\n",
    "\n"
   ]
  },
  {
   "cell_type": "code",
   "execution_count": null,
   "metadata": {},
   "outputs": [],
   "source": [
    "#|default_exp fisher"
   ]
  },
  {
   "cell_type": "markdown",
   "metadata": {},
   "source": [
    "By Fred Guth\n",
    "\n",
    "One-sentence summary: Create a callback that calculates the Fisher Information in the weights and uses it to speedup learning."
   ]
  },
  {
   "cell_type": "markdown",
   "metadata": {},
   "source": [
    "## Motivation\n",
    "\n",
    "During training, a model stores information about the training dataset in its weights, $I[D;W]$.  Ideally, it would only store information that is useful for the task, but most of what is stored in the weights is information about the input and does not relate to the task.\n",
    "\n",
    "Knowing how much information our model retains during training can can be useful for:\n",
    "* checking if the model is overfitting;\n",
    "* updating the learning rate\n",
    "* creating a regularization term for the loss\n",
    "\n",
    "To calculate the Shannon information in the weights, we would need to know the true $\\Theta$ that we are estimating with our $W$. Still, we can calculate the Fisher Information in the weights, which is a lower bound for the Shannon Information.\n"
   ]
  },
  {
   "cell_type": "markdown",
   "metadata": {},
   "source": [
    "## A Simple Baseline"
   ]
  },
  {
   "cell_type": "code",
   "execution_count": 1,
   "metadata": {},
   "outputs": [
    {
     "name": "stderr",
     "output_type": "stream",
     "text": [
      "/home/fredguth/.miniconda3/envs/py39/lib/python3.9/site-packages/torchvision/io/image.py:13: UserWarning: Failed to load image Python extension: libtorch_cuda_cu.so: cannot open shared object file: No such file or directory\n",
      "  warn(f\"Failed to load image Python extension: {e}\")\n"
     ]
    }
   ],
   "source": [
    "#|export\n",
    "from __future__ import annotations\n",
    "import random,math,torch,matplotlib as mpl,numpy as np,matplotlib.pyplot as plt\n",
    "import fastcore.all as fc\n",
    "from pathlib import Path\n",
    "from operator import attrgetter,itemgetter\n",
    "from functools import partial\n",
    "from copy import copy\n",
    "from torch import tensor,nn,optim\n",
    "import torch.nn.functional as F\n",
    "from torch.distributions import Categorical\n",
    "import torchvision.transforms.functional as TF\n",
    "from datasets import load_dataset\n",
    "import time\n",
    "from miniai.datasets import *\n",
    "from miniai.learner import *\n",
    "from torcheval.metrics import MulticlassAccuracy,Mean\n",
    "from tqdm.auto import tqdm"
   ]
  },
  {
   "cell_type": "code",
   "execution_count": 2,
   "metadata": {},
   "outputs": [],
   "source": [
    "from jupyterthemes import jtplot\n",
    "jtplot.style(theme='onedork')\n",
    "from IPython.core.debugger import set_trace\n",
    "from fastcore.test import test_close\n",
    "\n",
    "torch.set_printoptions(precision=2, linewidth=140, sci_mode=False)\n",
    "mpl.rcParams['figure.constrained_layout.use'] = True\n",
    "\n",
    "import logging\n",
    "logging.disable(logging.WARNING)"
   ]
  },
  {
   "cell_type": "code",
   "execution_count": 3,
   "metadata": {},
   "outputs": [
    {
     "data": {
      "application/vnd.jupyter.widget-view+json": {
       "model_id": "aa9e2a06b1e8444d95417e66f84244c9",
       "version_major": 2,
       "version_minor": 0
      },
      "text/plain": [
       "  0%|          | 0/2 [00:00<?, ?it/s]"
      ]
     },
     "metadata": {},
     "output_type": "display_data"
    }
   ],
   "source": [
    "x,y = 'image','label'\n",
    "name = \"fashion_mnist\"\n",
    "dsd = load_dataset(name)\n",
    "bs = 1024*8\n",
    "\n",
    "@inplace\n",
    "def transformi(b): b[x] = [torch.flatten(TF.to_tensor(o)) for o in b[x]]\n",
    "\n",
    "tds = dsd.with_transform(transformi)\n",
    "dls = DataLoaders.from_dd(tds, bs, num_workers=6)"
   ]
  },
  {
   "cell_type": "code",
   "execution_count": 5,
   "metadata": {},
   "outputs": [
    {
     "name": "stdout",
     "output_type": "stream",
     "text": [
      "\u001b[0;31mSignature:\u001b[0m \u001b[0minplace\u001b[0m\u001b[0;34m(\u001b[0m\u001b[0mf\u001b[0m\u001b[0;34m)\u001b[0m\u001b[0;34m\u001b[0m\u001b[0;34m\u001b[0m\u001b[0m\n",
      "\u001b[0;31mDocstring:\u001b[0m <no docstring>\n",
      "\u001b[0;31mFile:\u001b[0m      ~/code/course22p2/miniai/datasets.py\n",
      "\u001b[0;31mType:\u001b[0m      function\n"
     ]
    }
   ],
   "source": [
    "inplace?"
   ]
  },
  {
   "cell_type": "code",
   "execution_count": null,
   "metadata": {},
   "outputs": [],
   "source": [
    "def get_model(): \n",
    "    m,nh = 28*28,50\n",
    "    return nn.Sequential(nn.Linear(m,nh), nn.ReLU(), nn.Linear(nh,10))"
   ]
  },
  {
   "cell_type": "code",
   "execution_count": null,
   "metadata": {},
   "outputs": [
    {
     "data": {
      "text/html": [
       "\n",
       "<style>\n",
       "    /* Turns off some styling */\n",
       "    progress {\n",
       "        /* gets rid of default border in Firefox and Opera. */\n",
       "        border: none;\n",
       "        /* Needs to be in here for Safari polyfill so background images work as expected. */\n",
       "        background-size: auto;\n",
       "    }\n",
       "    progress:not([value]), progress:not([value])::-webkit-progress-bar {\n",
       "        background: repeating-linear-gradient(45deg, #7e7e7e, #7e7e7e 10px, #5c5c5c 10px, #5c5c5c 20px);\n",
       "    }\n",
       "    .progress-bar-interrupted, .progress-bar-interrupted::-webkit-progress-bar {\n",
       "        background: #F44336;\n",
       "    }\n",
       "</style>\n"
      ],
      "text/plain": [
       "<IPython.core.display.HTML object>"
      ]
     },
     "metadata": {},
     "output_type": "display_data"
    },
    {
     "data": {
      "text/html": [
       "{'accuracy': '0.065', 'loss': '2.295', 'epoch': 0, 'train': True}<p>{'accuracy': '0.134', 'loss': '2.252', 'epoch': 0, 'train': False}"
      ],
      "text/plain": [
       "<IPython.core.display.HTML object>"
      ]
     },
     "metadata": {},
     "output_type": "display_data"
    },
    {
     "data": {
      "image/png": "[encoded data removed]",
      "text/plain": [
       "<Figure size 600x400 with 1 Axes>"
      ]
     },
     "metadata": {},
     "output_type": "display_data"
    }
   ],
   "source": [
    "metrics = MetricsCB(accuracy=MulticlassAccuracy())\n",
    "cbs = [TrainCB(), DeviceCB(), metrics, ProgressCB(plot=True)]\n",
    "learn = Learner(get_model(), dls, F.cross_entropy, lr=0.02, cbs=cbs)\n",
    "learn.fit(1)"
   ]
  },
  {
   "cell_type": "markdown",
   "metadata": {},
   "source": [
    "## Fisher  Information"
   ]
  },
  {
   "cell_type": "markdown",
   "metadata": {},
   "source": [
    "Let $P_{\\theta}$ denote a family of parametric distributions on a space $\\mathcal{X}$ with probability mass or density function given by $p_{\\theta}$.\n",
    "\n",
    "The **Fisher information matrix** $F \\in \\mathbb{R}^{N \\times N}$ of a DNN with learnable parameter $\\theta \\in \\mathbb{R}^{N}$ is the matrix:\n",
    "\t\\begin{align}\n",
    "\t\t[F(\\theta)]_{ij} &:= \\mathbb{E}_{x} \\left[ \\nabla_{\\theta_i} \\log p_{\\theta}(X) \\cdot  \\nabla_{\\theta_j} \\log p_{\\theta}(X)^\\top \\right] \\\\\n",
    "\t\t&= \\mathbb{E}_{\\theta}\\left[ \\frac{\\partial \\ell}{\\partial \\theta_i} \\cdot \\frac{\\partial \\ell}{\\partial \\theta_j}^\\top \\right],\n",
    "\t\\end{align}\n",
    "\twhere $\\ell(x|\\theta)= \\log p(x|\\theta)$ is often called the score function.\n",
    "\n",
    "The Fisher information measures the overall sensitivity of the functional relationship $p$ to changes of $\\theta$ by weighting the sensitivity at each potential outcome $x$ w.r.t $p_{\\theta}(x)$ @{maarten:2017}\n",
    "\n",
    "A common simplification of the **Fisher Information Matrix (FIM)** is to reduce it to the diagonal:\n",
    "\\begin{align}\n",
    "\t[I_{X}(\\theta)]_{i} &:= \\mathbb{E}_{\\theta} \\left[ \\nabla_{\\theta_i} \\log p_{\\theta}(X)^2 \\right]\n",
    "\\end{align}"
   ]
  },
  {
   "cell_type": "markdown",
   "metadata": {},
   "source": [
    "### Cross Entropy Loss"
   ]
  },
  {
   "cell_type": "markdown",
   "metadata": {},
   "source": [
    "Cross-entropy is the average number of bits needed to encode data coming from a source X with distribution p(x) when using model q(x).\n",
    "    \\begin{align}\n",
    "     H_{p,q}[X]&=−\\sum{p(x)\\log q(x)}, x \\in A(X) \\\\\n",
    "     H_{p,q}[X]&=-\\mathbb{E}_{x}\\log q(x), x \\in A(X)\n",
    "    \\end{align}\n"
   ]
  },
  {
   "cell_type": "markdown",
   "metadata": {},
   "source": [
    "## Fisher  Information Callback\n",
    "\n",
    "Let's create a Callback to calculate the fisher information in the weights of our model.\n"
   ]
  },
  {
   "cell_type": "code",
   "execution_count": null,
   "metadata": {},
   "outputs": [],
   "source": [
    "#|export\n",
    "from nngeometry.metrics import FIM, FIM_MonteCarlo\n",
    "from nngeometry.object import PMatKFAC, PMatDiag, PVector\n",
    "import time"
   ]
  },
  {
   "cell_type": "code",
   "execution_count": null,
   "metadata": {},
   "outputs": [
    {
     "data": {
      "text/plain": [
       "3.743682622909546"
      ]
     },
     "execution_count": null,
     "metadata": {},
     "output_type": "execute_result"
    }
   ],
   "source": [
    "tic = time.time()\n",
    "F_kfac = FIM(model=learn.model,\n",
    "                 loader=learn.dls.valid,\n",
    "                 representation=PMatKFAC,\n",
    "                 n_output=10,\n",
    "                 variant='classif_logits',\n",
    "                 device='cuda')\n",
    "tac = time.time()\n",
    "tac-tic"
   ]
  },
  {
   "cell_type": "code",
   "execution_count": null,
   "metadata": {},
   "outputs": [
    {
     "data": {
      "text/plain": [
       "3.3968558311462402"
      ]
     },
     "execution_count": null,
     "metadata": {},
     "output_type": "execute_result"
    }
   ],
   "source": [
    "tic = time.time()\n",
    "F_mc = FIM_MonteCarlo(model=learn.model,\n",
    "                 loader=learn.dls.valid,\n",
    "                 representation=PMatDiag,\n",
    "                 variant='classif_logits',\n",
    "                 device='cuda')\n",
    "tac = time.time()\n",
    "tac-tic"
   ]
  },
  {
   "cell_type": "code",
   "execution_count": null,
   "metadata": {},
   "outputs": [
    {
     "data": {
      "text/plain": [
       "3.403806209564209"
      ]
     },
     "execution_count": null,
     "metadata": {},
     "output_type": "execute_result"
    }
   ],
   "source": [
    "tic = time.time()\n",
    "F_mc_k = FIM_MonteCarlo(model=learn.model,\n",
    "                 loader=learn.dls.valid,\n",
    "                 representation=PMatKFAC,\n",
    "                 variant='classif_logits',\n",
    "                 device='cuda')\n",
    "tac = time.time()\n",
    "tac-tic"
   ]
  },
  {
   "cell_type": "code",
   "execution_count": null,
   "metadata": {},
   "outputs": [
    {
     "data": {
      "text/plain": [
       "(tensor(26.88, device='cuda:0'),\n",
       " tensor(27.15, device='cuda:0'),\n",
       " tensor(26.87, device='cuda:0'))"
      ]
     },
     "execution_count": null,
     "metadata": {},
     "output_type": "execute_result"
    }
   ],
   "source": [
    "F_kfac.trace(), F_mc.trace(), F_mc_k.trace()"
   ]
  },
  {
   "cell_type": "code",
   "execution_count": null,
   "metadata": {},
   "outputs": [
    {
     "data": {
      "text/plain": [
       "torch.Size([39760])"
      ]
     },
     "execution_count": null,
     "metadata": {},
     "output_type": "execute_result"
    }
   ],
   "source": [
    "F_kfac.get_diag().shape"
   ]
  },
  {
   "cell_type": "code",
   "execution_count": null,
   "metadata": {},
   "outputs": [
    {
     "data": {
      "text/plain": [
       "{'0.weight': 39200,\n",
       " '0.bias': 50,\n",
       " '2.weight': 500,\n",
       " '2.bias': 10,\n",
       " 'total': 39760}"
      ]
     },
     "execution_count": null,
     "metadata": {},
     "output_type": "execute_result"
    }
   ],
   "source": [
    "param_sizes = {n:p.numel() for n,p in learn.model.named_parameters() if p.requires_grad}\n",
    "param_sizes['total']=sum(param_sizes.values())\n",
    "param_sizes"
   ]
  },
  {
   "cell_type": "code",
   "execution_count": null,
   "metadata": {},
   "outputs": [],
   "source": [
    "#|export\n",
    "class FisherCB(Callback):\n",
    "    def __init__(self, representation = PMatKFAC): \n",
    "        fc.store_attr()\n",
    "        self.Fs = []\n",
    "    def _log(self, d): print({**d, **self.learn.epoch, **self.learn.training})\n",
    "    def before_fit(self): self.learn.fisher = self\n",
    "    def after_epoch(self):\n",
    "        if not self.learn.model.training: raise CancelEpochException()\n",
    "        else:\n",
    "            F = FIM(model=learn.model,\n",
    "                 loader=learn.dls.valid,\n",
    "                 representation=self.representation,\n",
    "                 n_output=10,\n",
    "                 variant='classif_logits',\n",
    "                 device='cuda')\n",
    "            self.Fs.append(F)"
   ]
  },
  {
   "cell_type": "code",
   "execution_count": null,
   "metadata": {},
   "outputs": [
    {
     "data": {
      "text/html": [
       "\n",
       "<style>\n",
       "    /* Turns off some styling */\n",
       "    progress {\n",
       "        /* gets rid of default border in Firefox and Opera. */\n",
       "        border: none;\n",
       "        /* Needs to be in here for Safari polyfill so background images work as expected. */\n",
       "        background-size: auto;\n",
       "    }\n",
       "    progress:not([value]), progress:not([value])::-webkit-progress-bar {\n",
       "        background: repeating-linear-gradient(45deg, #7e7e7e, #7e7e7e 10px, #5c5c5c 10px, #5c5c5c 20px);\n",
       "    }\n",
       "    .progress-bar-interrupted, .progress-bar-interrupted::-webkit-progress-bar {\n",
       "        background: #F44336;\n",
       "    }\n",
       "</style>\n"
      ],
      "text/plain": [
       "<IPython.core.display.HTML object>"
      ]
     },
     "metadata": {},
     "output_type": "display_data"
    },
    {
     "data": {
      "text/html": [
       "{'accuracy': '0.149', 'loss': '2.278', 'epoch': 0, 'train': True}<p>{'accuracy': '0.202', 'loss': '2.209', 'epoch': 1, 'train': True}"
      ],
      "text/plain": [
       "<IPython.core.display.HTML object>"
      ]
     },
     "metadata": {},
     "output_type": "display_data"
    },
    {
     "data": {
      "image/png": "[encoded data removed]",
      "text/plain": [
       "<Figure size 600x400 with 1 Axes>"
      ]
     },
     "metadata": {},
     "output_type": "display_data"
    }
   ],
   "source": [
    "metrics = MetricsCB(accuracy=MulticlassAccuracy())\n",
    "fcb = FisherCB()\n",
    "cbs = [TrainCB(), DeviceCB(),fcb, metrics, ProgressCB(plot=True)]\n",
    "learn = Learner(get_model(), dls, F.cross_entropy, lr=0.02, cbs=cbs)\n",
    "learn.fit(2)"
   ]
  },
  {
   "cell_type": "code",
   "execution_count": null,
   "metadata": {},
   "outputs": [
    {
     "data": {
      "text/plain": [
       "(tensor(27.04, device='cuda:0'), tensor(28.93, device='cuda:0'))"
      ]
     },
     "execution_count": null,
     "metadata": {},
     "output_type": "execute_result"
    }
   ],
   "source": [
    "fcb.Fs[0].trace(), fcb.Fs[1].trace()"
   ]
  },
  {
   "cell_type": "markdown",
   "metadata": {},
   "source": [
    "## Fisher Infor Metric\n",
    "Let's create a metric to check the amount of information during training"
   ]
  },
  {
   "cell_type": "code",
   "execution_count": null,
   "metadata": {},
   "outputs": [],
   "source": [
    "class Metric:\n",
    "    def __init__(self): self.reset()\n",
    "    def reset(self): self.vals,self.ns = [],[]\n",
    "    def add(self, inp, targ=None, n=1):\n",
    "        self.last = self.calc(inp, targ)\n",
    "        self.vals.append(self.last)\n",
    "        self.ns.append(n)\n",
    "    @property\n",
    "    def value(self):\n",
    "        ns = tensor(self.ns)\n",
    "        return (tensor(self.vals)*ns).sum()/ns.sum()\n",
    "    def calc(self, inps, targs): return inps"
   ]
  },
  {
   "cell_type": "code",
   "execution_count": null,
   "metadata": {},
   "outputs": [],
   "source": [
    "class FisherInfo(Metric):\n",
    "    def __init__(self, fcb: FisherCB): fc.store_attr()\n",
    "    def update(self, inputs, targs):\n",
    "            self.result = self.fcb.Fs[-1].trace() if (len(self.fcb.Fs) > 0) else 0\n",
    "    def compute(self):\n",
    "        return self.result\n",
    "    @property\n",
    "    def value(self):\n",
    "        return self.result\n",
    "    @property\n",
    "    def name(self): return 'fisher'"
   ]
  },
  {
   "cell_type": "code",
   "execution_count": null,
   "metadata": {},
   "outputs": [
    {
     "data": {
      "text/html": [
       "\n",
       "<style>\n",
       "    /* Turns off some styling */\n",
       "    progress {\n",
       "        /* gets rid of default border in Firefox and Opera. */\n",
       "        border: none;\n",
       "        /* Needs to be in here for Safari polyfill so background images work as expected. */\n",
       "        background-size: auto;\n",
       "    }\n",
       "    progress:not([value]), progress:not([value])::-webkit-progress-bar {\n",
       "        background: repeating-linear-gradient(45deg, #7e7e7e, #7e7e7e 10px, #5c5c5c 10px, #5c5c5c 20px);\n",
       "    }\n",
       "    .progress-bar-interrupted, .progress-bar-interrupted::-webkit-progress-bar {\n",
       "        background: #F44336;\n",
       "    }\n",
       "</style>\n"
      ],
      "text/plain": [
       "<IPython.core.display.HTML object>"
      ]
     },
     "metadata": {},
     "output_type": "display_data"
    },
    {
     "data": {
      "text/html": [
       "{'accuracy': '0.095', 'fisher': '0.000', 'loss': '2.295', 'epoch': 0, 'train': True}<p>{'accuracy': '0.119', 'fisher': '24.400', 'loss': '2.247', 'epoch': 1, 'train': True}<p>{'accuracy': '0.236', 'fisher': '25.207', 'loss': '2.205', 'epoch': 2, 'train': True}<p>{'accuracy': '0.403', 'fisher': '27.105', 'loss': '2.160', 'epoch': 3, 'train': True}<p>{'accuracy': '0.478', 'fisher': '29.854', 'loss': '2.110', 'epoch': 4, 'train': True}"
      ],
      "text/plain": [
       "<IPython.core.display.HTML object>"
      ]
     },
     "metadata": {},
     "output_type": "display_data"
    },
    {
     "data": {
      "image/png": "[encoded data removed]",
      "text/plain": [
       "<Figure size 600x400 with 1 Axes>"
      ]
     },
     "metadata": {},
     "output_type": "display_data"
    }
   ],
   "source": [
    "fcb = FisherCB()\n",
    "metrics = MetricsCB(accuracy=MulticlassAccuracy(), fisher=FisherInfo(fcb))\n",
    "metrics.order = fcb.order+1\n",
    "cbs = [TrainCB(), DeviceCB(), fcb, metrics, ProgressCB(plot=True)]\n",
    "learn = Learner(get_model(), dls, F.cross_entropy, lr=0.02, cbs=cbs)\n",
    "learn.fit(5)"
   ]
  },
  {
   "cell_type": "markdown",
   "metadata": {},
   "source": [
    "## Natural Gradient\n",
    "The Fisher Information is the negative of the Hessian of the Loss w.r.t to the parameters.\n",
    "We can use the hessian to approximate the loss function to a polynomial in the neighborhood of the minimum value of $\\theta$. This leads to a update function where the learning rate is the inverse of the FIM."
   ]
  },
  {
   "cell_type": "code",
   "execution_count": null,
   "metadata": {},
   "outputs": [],
   "source": [
    "class FisherCB(Callback):\n",
    "    def __init__(self, representation = PMatKFAC, natural_gradient = False): \n",
    "        fc.store_attr()\n",
    "        self.Fs = []\n",
    "    def _log(self, d): print({**d, **self.learn.epoch, **self.learn.training})\n",
    "    def before_fit(self): self.learn.fisher = self\n",
    "    def after_epoch(self):\n",
    "        if not self.learn.model.training: raise CancelEpochException()\n",
    "        else:\n",
    "            F = FIM(model=learn.model,\n",
    "                 loader=learn.dls.valid,\n",
    "                 representation=self.representation,\n",
    "                 n_output=10,\n",
    "                 variant='classif_logits',\n",
    "                 device='cuda')\n",
    "            if self.natural_gradient: self.learn.lr = 1/F.trace()\n",
    "            self.Fs.append(F)"
   ]
  },
  {
   "cell_type": "code",
   "execution_count": null,
   "metadata": {},
   "outputs": [
    {
     "data": {
      "text/html": [
       "\n",
       "<style>\n",
       "    /* Turns off some styling */\n",
       "    progress {\n",
       "        /* gets rid of default border in Firefox and Opera. */\n",
       "        border: none;\n",
       "        /* Needs to be in here for Safari polyfill so background images work as expected. */\n",
       "        background-size: auto;\n",
       "    }\n",
       "    progress:not([value]), progress:not([value])::-webkit-progress-bar {\n",
       "        background: repeating-linear-gradient(45deg, #7e7e7e, #7e7e7e 10px, #5c5c5c 10px, #5c5c5c 20px);\n",
       "    }\n",
       "    .progress-bar-interrupted, .progress-bar-interrupted::-webkit-progress-bar {\n",
       "        background: #F44336;\n",
       "    }\n",
       "</style>\n"
      ],
      "text/plain": [
       "<IPython.core.display.HTML object>"
      ]
     },
     "metadata": {},
     "output_type": "display_data"
    },
    {
     "data": {
      "text/html": [
       "{'accuracy': '0.167', 'fisher': '0.000', 'loss': '2.259', 'epoch': 0, 'train': True}<p>{'accuracy': '0.200', 'fisher': '29.259', 'loss': '2.190', 'epoch': 1, 'train': True}<p>{'accuracy': '0.237', 'fisher': '32.485', 'loss': '2.125', 'epoch': 2, 'train': True}<p>{'accuracy': '0.286', 'fisher': '36.275', 'loss': '2.058', 'epoch': 3, 'train': True}<p>{'accuracy': '0.346', 'fisher': '39.897', 'loss': '1.987', 'epoch': 4, 'train': True}"
      ],
      "text/plain": [
       "<IPython.core.display.HTML object>"
      ]
     },
     "metadata": {},
     "output_type": "display_data"
    },
    {
     "data": {
      "image/png": "[encoded data removed]",
      "text/plain": [
       "<Figure size 600x400 with 1 Axes>"
      ]
     },
     "metadata": {},
     "output_type": "display_data"
    }
   ],
   "source": [
    "fcb = FisherCB(natural_gradient=True)\n",
    "metrics = MetricsCB(accuracy=MulticlassAccuracy(), fisher=FisherInfo(fcb))\n",
    "metrics.order = fcb.order+1\n",
    "cbs = [TrainCB(), DeviceCB(), fcb, metrics, ProgressCB(plot=True)]\n",
    "learn = Learner(get_model(), dls, F.cross_entropy, lr=0.02, cbs=cbs)\n",
    "learn.fit(5)"
   ]
  },
  {
   "cell_type": "code",
   "execution_count": null,
   "metadata": {},
   "outputs": [],
   "source": [
    "# class FisherCB(Callback):\n",
    "#     def __init__(self, representation = PMatKFAC, natural_gradient = False, beta = None): \n",
    "#         fc.store_attr()\n",
    "#         self.Fs = []\n",
    "#     def _log(self, d): print({**d, **self.learn.epoch, **self.learn.training})\n",
    "#     def before_fit(self): self.learn.fisher = self\n",
    "#     def after_epoch(self):\n",
    "#         if not self.learn.model.training: raise CancelEpochException()\n",
    "#         else:\n",
    "#             F = FIM(model=learn.model,\n",
    "#                  loader=learn.dls.valid,\n",
    "#                  representation=self.representation,\n",
    "#                  n_output=10,\n",
    "#                  variant='classif_logits',\n",
    "#                  device='cuda')\n",
    "#             if self.natural_gradient: self.learn.lr = 1/F.trace()\n",
    "#             if self.beta is not None:\n",
    "#                 self.learn.loss_func = lambda *args, **kwargs: self.learn.loss_func(args, kwargs) \n",
    "# #                 + self.beta * F.trace()\n",
    "#             self.Fs.append(F)"
   ]
  },
  {
   "cell_type": "code",
   "execution_count": null,
   "metadata": {},
   "outputs": [],
   "source": [
    "# fcb = FisherCB(natural_gradient=False, beta=0.5)\n",
    "# metrics = MetricsCB(accuracy=MulticlassAccuracy(), fisher=FisherInfo(fcb))\n",
    "# metrics.order = fcb.order+1\n",
    "# cbs = [TrainCB(), DeviceCB(), fcb, metrics, ProgressCB(plot=True)]\n",
    "# learn = Learner(get_model(), dls, F.cross_entropy, lr=0.02, cbs=cbs)\n",
    "# learn.fit(2)"
   ]
  }
 ],
 "metadata": {
  "jupytext": {
   "split_at_heading": true
  },
  "kernelspec": {
   "display_name": "py39",
   "language": "python",
   "name": "python3"
  },
  "language_info": {
   "codemirror_mode": {
    "name": "ipython",
    "version": 3
   },
   "file_extension": ".py",
   "mimetype": "text/x-python",
   "name": "python",
   "nbconvert_exporter": "python",
   "pygments_lexer": "ipython3",
   "version": "3.9.13"
  },
  "vscode": {
   "interpreter": {
    "hash": "8b806adfb64333d0ca5c14ed2dbf613d5d551ec856d702e8a01588c05fb48e2e"
   }
  }
 },
 "nbformat": 4,
 "nbformat_minor": 4
}
